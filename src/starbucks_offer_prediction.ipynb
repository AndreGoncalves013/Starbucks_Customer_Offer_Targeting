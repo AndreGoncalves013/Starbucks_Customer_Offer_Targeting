{
 "cells": [
  {
   "cell_type": "markdown",
   "metadata": {},
   "source": [
    "# Starbucks Customers to Offer Prediction"
   ]
  },
  {
   "cell_type": "markdown",
   "metadata": {},
   "source": [
    "## Importing packages"
   ]
  },
  {
   "cell_type": "code",
   "execution_count": 1,
   "metadata": {},
   "outputs": [],
   "source": [
    "import pandas as pd\n",
    "import numpy as np\n",
    "import json\n",
    "import data_preprocessing as dp\n",
    "from sklearn.model_selection import train_test_split\n",
    "from statistics import mode\n",
    "from sklearn.preprocessing import OneHotEncoder, StandardScaler, LabelEncoder\n",
    "from sklearn.tree import DecisionTreeClassifier\n",
    "from sklearn.ensemble import RandomForestClassifier\n",
    "from sklearn.multioutput import MultiOutputClassifier\n",
    "from sklearn.metrics import balanced_accuracy_score, confusion_matrix, make_scorer, precision_score\n",
    "import seaborn as sns\n",
    "import matplotlib.pyplot as plt\n",
    "\n",
    "from sklearn.svm import SVC\n",
    "from sklearn.model_selection import GridSearchCV\n",
    "\n",
    "from sklearn.tree import export_graphviz, plot_tree"
   ]
  },
  {
   "cell_type": "markdown",
   "metadata": {},
   "source": [
    "## Reading the datasets"
   ]
  },
  {
   "cell_type": "code",
   "execution_count": 2,
   "metadata": {},
   "outputs": [],
   "source": [
    "portfolio_df = pd.read_json('../data/portfolio.json', orient='records', lines=True)\n",
    "profile_df = pd.read_json('../data/profile.json', orient='records', lines=True)\n",
    "transcript_df = pd.read_json('../data/transcript.json', orient='records', lines=True)"
   ]
  },
  {
   "cell_type": "markdown",
   "metadata": {},
   "source": [
    "## Feature engineering"
   ]
  },
  {
   "cell_type": "markdown",
   "metadata": {},
   "source": [
    "### Demographic features"
   ]
  },
  {
   "cell_type": "code",
   "execution_count": 3,
   "metadata": {},
   "outputs": [],
   "source": [
    "demographic_df = profile_df[['id', 'age', 'gender', 'income']]"
   ]
  },
  {
   "cell_type": "markdown",
   "metadata": {},
   "source": [
    "### Features related to offer interactions"
   ]
  },
  {
   "cell_type": "code",
   "execution_count": 4,
   "metadata": {},
   "outputs": [
    {
     "data": {
      "text/html": [
       "<div>\n",
       "<style scoped>\n",
       "    .dataframe tbody tr th:only-of-type {\n",
       "        vertical-align: middle;\n",
       "    }\n",
       "\n",
       "    .dataframe tbody tr th {\n",
       "        vertical-align: top;\n",
       "    }\n",
       "\n",
       "    .dataframe thead th {\n",
       "        text-align: right;\n",
       "    }\n",
       "</style>\n",
       "<table border=\"1\" class=\"dataframe\">\n",
       "  <thead>\n",
       "    <tr style=\"text-align: right;\">\n",
       "      <th></th>\n",
       "      <th>person</th>\n",
       "      <th>event</th>\n",
       "      <th>value</th>\n",
       "      <th>time</th>\n",
       "      <th>offer_id</th>\n",
       "      <th>reward</th>\n",
       "      <th>channels</th>\n",
       "      <th>difficulty</th>\n",
       "      <th>duration</th>\n",
       "      <th>offer_type</th>\n",
       "      <th>id</th>\n",
       "      <th>offer_type_event</th>\n",
       "      <th>expiration_time</th>\n",
       "    </tr>\n",
       "  </thead>\n",
       "  <tbody>\n",
       "    <tr>\n",
       "      <th>0</th>\n",
       "      <td>78afa995795e4d85b5d9ceeca43f5fef</td>\n",
       "      <td>offer_received</td>\n",
       "      <td>{'offer id': '9b98b8c7a33c4b65b9aebfe6a799e6d9'}</td>\n",
       "      <td>0</td>\n",
       "      <td>9b98b8c7a33c4b65b9aebfe6a799e6d9</td>\n",
       "      <td>5</td>\n",
       "      <td>[web, email, mobile]</td>\n",
       "      <td>5</td>\n",
       "      <td>7</td>\n",
       "      <td>bogo</td>\n",
       "      <td>9b98b8c7a33c4b65b9aebfe6a799e6d9</td>\n",
       "      <td>bogo_offer_received</td>\n",
       "      <td>7</td>\n",
       "    </tr>\n",
       "    <tr>\n",
       "      <th>1</th>\n",
       "      <td>a03223e636434f42ac4c3df47e8bac43</td>\n",
       "      <td>offer_received</td>\n",
       "      <td>{'offer id': '0b1e1539f2cc45b7b9fa7c272da2e1d7'}</td>\n",
       "      <td>0</td>\n",
       "      <td>0b1e1539f2cc45b7b9fa7c272da2e1d7</td>\n",
       "      <td>5</td>\n",
       "      <td>[web, email]</td>\n",
       "      <td>20</td>\n",
       "      <td>10</td>\n",
       "      <td>discount</td>\n",
       "      <td>0b1e1539f2cc45b7b9fa7c272da2e1d7</td>\n",
       "      <td>discount_offer_received</td>\n",
       "      <td>10</td>\n",
       "    </tr>\n",
       "    <tr>\n",
       "      <th>2</th>\n",
       "      <td>e2127556f4f64592b11af22de27a7932</td>\n",
       "      <td>offer_received</td>\n",
       "      <td>{'offer id': '2906b810c7d4411798c6938adc9daaa5'}</td>\n",
       "      <td>0</td>\n",
       "      <td>2906b810c7d4411798c6938adc9daaa5</td>\n",
       "      <td>2</td>\n",
       "      <td>[web, email, mobile]</td>\n",
       "      <td>10</td>\n",
       "      <td>7</td>\n",
       "      <td>discount</td>\n",
       "      <td>2906b810c7d4411798c6938adc9daaa5</td>\n",
       "      <td>discount_offer_received</td>\n",
       "      <td>7</td>\n",
       "    </tr>\n",
       "    <tr>\n",
       "      <th>3</th>\n",
       "      <td>8ec6ce2a7e7949b1bf142def7d0e0586</td>\n",
       "      <td>offer_received</td>\n",
       "      <td>{'offer id': 'fafdcd668e3743c1bb461111dcafc2a4'}</td>\n",
       "      <td>0</td>\n",
       "      <td>fafdcd668e3743c1bb461111dcafc2a4</td>\n",
       "      <td>2</td>\n",
       "      <td>[web, email, mobile, social]</td>\n",
       "      <td>10</td>\n",
       "      <td>10</td>\n",
       "      <td>discount</td>\n",
       "      <td>fafdcd668e3743c1bb461111dcafc2a4</td>\n",
       "      <td>discount_offer_received</td>\n",
       "      <td>10</td>\n",
       "    </tr>\n",
       "    <tr>\n",
       "      <th>4</th>\n",
       "      <td>68617ca6246f4fbc85e91a2a49552598</td>\n",
       "      <td>offer_received</td>\n",
       "      <td>{'offer id': '4d5c57ea9a6940dd891ad53e9dbe8da0'}</td>\n",
       "      <td>0</td>\n",
       "      <td>4d5c57ea9a6940dd891ad53e9dbe8da0</td>\n",
       "      <td>10</td>\n",
       "      <td>[web, email, mobile, social]</td>\n",
       "      <td>10</td>\n",
       "      <td>5</td>\n",
       "      <td>bogo</td>\n",
       "      <td>4d5c57ea9a6940dd891ad53e9dbe8da0</td>\n",
       "      <td>bogo_offer_received</td>\n",
       "      <td>5</td>\n",
       "    </tr>\n",
       "  </tbody>\n",
       "</table>\n",
       "</div>"
      ],
      "text/plain": [
       "                             person           event  \\\n",
       "0  78afa995795e4d85b5d9ceeca43f5fef  offer_received   \n",
       "1  a03223e636434f42ac4c3df47e8bac43  offer_received   \n",
       "2  e2127556f4f64592b11af22de27a7932  offer_received   \n",
       "3  8ec6ce2a7e7949b1bf142def7d0e0586  offer_received   \n",
       "4  68617ca6246f4fbc85e91a2a49552598  offer_received   \n",
       "\n",
       "                                              value  time  \\\n",
       "0  {'offer id': '9b98b8c7a33c4b65b9aebfe6a799e6d9'}     0   \n",
       "1  {'offer id': '0b1e1539f2cc45b7b9fa7c272da2e1d7'}     0   \n",
       "2  {'offer id': '2906b810c7d4411798c6938adc9daaa5'}     0   \n",
       "3  {'offer id': 'fafdcd668e3743c1bb461111dcafc2a4'}     0   \n",
       "4  {'offer id': '4d5c57ea9a6940dd891ad53e9dbe8da0'}     0   \n",
       "\n",
       "                           offer_id  reward                      channels  \\\n",
       "0  9b98b8c7a33c4b65b9aebfe6a799e6d9       5          [web, email, mobile]   \n",
       "1  0b1e1539f2cc45b7b9fa7c272da2e1d7       5                  [web, email]   \n",
       "2  2906b810c7d4411798c6938adc9daaa5       2          [web, email, mobile]   \n",
       "3  fafdcd668e3743c1bb461111dcafc2a4       2  [web, email, mobile, social]   \n",
       "4  4d5c57ea9a6940dd891ad53e9dbe8da0      10  [web, email, mobile, social]   \n",
       "\n",
       "   difficulty  duration offer_type                                id  \\\n",
       "0           5         7       bogo  9b98b8c7a33c4b65b9aebfe6a799e6d9   \n",
       "1          20        10   discount  0b1e1539f2cc45b7b9fa7c272da2e1d7   \n",
       "2          10         7   discount  2906b810c7d4411798c6938adc9daaa5   \n",
       "3          10        10   discount  fafdcd668e3743c1bb461111dcafc2a4   \n",
       "4          10         5       bogo  4d5c57ea9a6940dd891ad53e9dbe8da0   \n",
       "\n",
       "          offer_type_event  expiration_time  \n",
       "0      bogo_offer_received                7  \n",
       "1  discount_offer_received               10  \n",
       "2  discount_offer_received                7  \n",
       "3  discount_offer_received               10  \n",
       "4      bogo_offer_received                5  "
      ]
     },
     "execution_count": 4,
     "metadata": {},
     "output_type": "execute_result"
    }
   ],
   "source": [
    "offers_delivered_df = dp.preprocess_offer_data(transcript_df, portfolio_df)\n",
    "offers_delivered_df.head()"
   ]
  },
  {
   "cell_type": "markdown",
   "metadata": {},
   "source": [
    "### Quantity of offers interactions per type of offer"
   ]
  },
  {
   "cell_type": "code",
   "execution_count": 5,
   "metadata": {},
   "outputs": [
    {
     "data": {
      "text/html": [
       "<div>\n",
       "<style scoped>\n",
       "    .dataframe tbody tr th:only-of-type {\n",
       "        vertical-align: middle;\n",
       "    }\n",
       "\n",
       "    .dataframe tbody tr th {\n",
       "        vertical-align: top;\n",
       "    }\n",
       "\n",
       "    .dataframe thead th {\n",
       "        text-align: right;\n",
       "    }\n",
       "</style>\n",
       "<table border=\"1\" class=\"dataframe\">\n",
       "  <thead>\n",
       "    <tr style=\"text-align: right;\">\n",
       "      <th>offer_type_event</th>\n",
       "      <th>person</th>\n",
       "      <th>qty_bogo_offer_received</th>\n",
       "      <th>qty_bogo_offer_viewed</th>\n",
       "      <th>qty_discount_offer_received</th>\n",
       "      <th>qty_discount_offer_viewed</th>\n",
       "      <th>qty_informational_offer_received</th>\n",
       "      <th>qty_informational_offer_viewed</th>\n",
       "    </tr>\n",
       "  </thead>\n",
       "  <tbody>\n",
       "    <tr>\n",
       "      <th>0</th>\n",
       "      <td>0009655768c64bdeb2e877511632db8f</td>\n",
       "      <td>1.0</td>\n",
       "      <td>1.0</td>\n",
       "      <td>2.0</td>\n",
       "      <td>1.0</td>\n",
       "      <td>2.0</td>\n",
       "      <td>2.0</td>\n",
       "    </tr>\n",
       "    <tr>\n",
       "      <th>1</th>\n",
       "      <td>00116118485d4dfda04fdbaba9a87b5c</td>\n",
       "      <td>2.0</td>\n",
       "      <td>2.0</td>\n",
       "      <td>0.0</td>\n",
       "      <td>0.0</td>\n",
       "      <td>0.0</td>\n",
       "      <td>0.0</td>\n",
       "    </tr>\n",
       "    <tr>\n",
       "      <th>2</th>\n",
       "      <td>0011e0d4e6b944f998e987f904e8c1e5</td>\n",
       "      <td>1.0</td>\n",
       "      <td>1.0</td>\n",
       "      <td>2.0</td>\n",
       "      <td>2.0</td>\n",
       "      <td>2.0</td>\n",
       "      <td>2.0</td>\n",
       "    </tr>\n",
       "    <tr>\n",
       "      <th>3</th>\n",
       "      <td>0020c2b971eb4e9188eac86d93036a77</td>\n",
       "      <td>2.0</td>\n",
       "      <td>1.0</td>\n",
       "      <td>2.0</td>\n",
       "      <td>1.0</td>\n",
       "      <td>1.0</td>\n",
       "      <td>1.0</td>\n",
       "    </tr>\n",
       "    <tr>\n",
       "      <th>4</th>\n",
       "      <td>0020ccbbb6d84e358d3414a3ff76cffd</td>\n",
       "      <td>2.0</td>\n",
       "      <td>2.0</td>\n",
       "      <td>1.0</td>\n",
       "      <td>1.0</td>\n",
       "      <td>1.0</td>\n",
       "      <td>1.0</td>\n",
       "    </tr>\n",
       "  </tbody>\n",
       "</table>\n",
       "</div>"
      ],
      "text/plain": [
       "offer_type_event                            person  qty_bogo_offer_received  \\\n",
       "0                 0009655768c64bdeb2e877511632db8f                      1.0   \n",
       "1                 00116118485d4dfda04fdbaba9a87b5c                      2.0   \n",
       "2                 0011e0d4e6b944f998e987f904e8c1e5                      1.0   \n",
       "3                 0020c2b971eb4e9188eac86d93036a77                      2.0   \n",
       "4                 0020ccbbb6d84e358d3414a3ff76cffd                      2.0   \n",
       "\n",
       "offer_type_event  qty_bogo_offer_viewed  qty_discount_offer_received  \\\n",
       "0                                   1.0                          2.0   \n",
       "1                                   2.0                          0.0   \n",
       "2                                   1.0                          2.0   \n",
       "3                                   1.0                          2.0   \n",
       "4                                   2.0                          1.0   \n",
       "\n",
       "offer_type_event  qty_discount_offer_viewed  qty_informational_offer_received  \\\n",
       "0                                       1.0                               2.0   \n",
       "1                                       0.0                               0.0   \n",
       "2                                       2.0                               2.0   \n",
       "3                                       1.0                               1.0   \n",
       "4                                       1.0                               1.0   \n",
       "\n",
       "offer_type_event  qty_informational_offer_viewed  \n",
       "0                                            2.0  \n",
       "1                                            0.0  \n",
       "2                                            2.0  \n",
       "3                                            1.0  \n",
       "4                                            1.0  "
      ]
     },
     "execution_count": 5,
     "metadata": {},
     "output_type": "execute_result"
    }
   ],
   "source": [
    "offer_interactions_df = offers_delivered_df[\n",
    "    offers_delivered_df.event != 'offer_completed'\n",
    "].copy()\n",
    "\n",
    "offer_interactions_df = offer_interactions_df.groupby(['person', 'offer_type_event'])\\\n",
    "    .id.count().reset_index()\n",
    "\n",
    "offer_interactions_df['offer_type_event'] = offer_interactions_df['offer_type_event']\\\n",
    "    .apply(lambda x: 'qty_' + x)\n",
    "\n",
    "offer_interactions_df = offer_interactions_df.pivot(\n",
    "    index='person',\n",
    "    columns='offer_type_event',\n",
    "    values='id'\n",
    ").fillna(0).reset_index()\n",
    "\n",
    "offer_interactions_df.head()"
   ]
  },
  {
   "cell_type": "code",
   "execution_count": 6,
   "metadata": {},
   "outputs": [],
   "source": [
    "def calculate_feature_metrics_per_offer_type(offers_delivered_df, feature):\n",
    "\n",
    "    group_cols = ['person', 'offer_type']\n",
    "\n",
    "    grouped_df = offers_delivered_df.groupby(group_cols)\\\n",
    "        .agg({feature: [np.mean, np.min, np.median, np.max]})\\\n",
    "            .round(2).reset_index()\n",
    "    grouped_df.columns = grouped_df.columns.droplevel()\n",
    "\n",
    "    grouped_df.columns.values[0] = \"person\"\n",
    "    grouped_df.columns.values[1] = \"offer_type\"\n",
    "\n",
    "    grouped_df = grouped_df.rename(columns={'amin':'min', 'amax':'max'})\n",
    "\n",
    "    melted_df = pd.melt(grouped_df, id_vars=group_cols, value_vars=grouped_df.columns[2:])\n",
    "\n",
    "    melted_df['feature'] = melted_df['variable'] + f'_{feature}_' + melted_df['offer_type']\n",
    "\n",
    "    pivot_df = melted_df.pivot(\n",
    "        index='person',\n",
    "        columns='feature',\n",
    "        values='value'\n",
    "    ).fillna(0).reset_index()\n",
    "\n",
    "    return pivot_df"
   ]
  },
  {
   "cell_type": "markdown",
   "metadata": {},
   "source": [
    "### Difficulty per offer type"
   ]
  },
  {
   "cell_type": "code",
   "execution_count": 7,
   "metadata": {},
   "outputs": [
    {
     "data": {
      "text/html": [
       "<div>\n",
       "<style scoped>\n",
       "    .dataframe tbody tr th:only-of-type {\n",
       "        vertical-align: middle;\n",
       "    }\n",
       "\n",
       "    .dataframe tbody tr th {\n",
       "        vertical-align: top;\n",
       "    }\n",
       "\n",
       "    .dataframe thead th {\n",
       "        text-align: right;\n",
       "    }\n",
       "</style>\n",
       "<table border=\"1\" class=\"dataframe\">\n",
       "  <thead>\n",
       "    <tr style=\"text-align: right;\">\n",
       "      <th>feature</th>\n",
       "      <th>person</th>\n",
       "      <th>max_difficulty_bogo</th>\n",
       "      <th>max_difficulty_discount</th>\n",
       "      <th>max_difficulty_informational</th>\n",
       "      <th>mean_difficulty_bogo</th>\n",
       "      <th>mean_difficulty_discount</th>\n",
       "      <th>mean_difficulty_informational</th>\n",
       "      <th>median_difficulty_bogo</th>\n",
       "      <th>median_difficulty_discount</th>\n",
       "      <th>median_difficulty_informational</th>\n",
       "      <th>min_difficulty_bogo</th>\n",
       "      <th>min_difficulty_discount</th>\n",
       "      <th>min_difficulty_informational</th>\n",
       "    </tr>\n",
       "  </thead>\n",
       "  <tbody>\n",
       "    <tr>\n",
       "      <th>0</th>\n",
       "      <td>0009655768c64bdeb2e877511632db8f</td>\n",
       "      <td>5.0</td>\n",
       "      <td>10.0</td>\n",
       "      <td>0.0</td>\n",
       "      <td>5.0</td>\n",
       "      <td>10.0</td>\n",
       "      <td>0.0</td>\n",
       "      <td>5.0</td>\n",
       "      <td>10.0</td>\n",
       "      <td>0.0</td>\n",
       "      <td>5.0</td>\n",
       "      <td>10.0</td>\n",
       "      <td>0.0</td>\n",
       "    </tr>\n",
       "    <tr>\n",
       "      <th>1</th>\n",
       "      <td>00116118485d4dfda04fdbaba9a87b5c</td>\n",
       "      <td>5.0</td>\n",
       "      <td>0.0</td>\n",
       "      <td>0.0</td>\n",
       "      <td>5.0</td>\n",
       "      <td>0.0</td>\n",
       "      <td>0.0</td>\n",
       "      <td>5.0</td>\n",
       "      <td>0.0</td>\n",
       "      <td>0.0</td>\n",
       "      <td>5.0</td>\n",
       "      <td>0.0</td>\n",
       "      <td>0.0</td>\n",
       "    </tr>\n",
       "    <tr>\n",
       "      <th>2</th>\n",
       "      <td>0011e0d4e6b944f998e987f904e8c1e5</td>\n",
       "      <td>5.0</td>\n",
       "      <td>20.0</td>\n",
       "      <td>0.0</td>\n",
       "      <td>5.0</td>\n",
       "      <td>13.5</td>\n",
       "      <td>0.0</td>\n",
       "      <td>5.0</td>\n",
       "      <td>13.5</td>\n",
       "      <td>0.0</td>\n",
       "      <td>5.0</td>\n",
       "      <td>7.0</td>\n",
       "      <td>0.0</td>\n",
       "    </tr>\n",
       "    <tr>\n",
       "      <th>3</th>\n",
       "      <td>0020c2b971eb4e9188eac86d93036a77</td>\n",
       "      <td>10.0</td>\n",
       "      <td>10.0</td>\n",
       "      <td>0.0</td>\n",
       "      <td>10.0</td>\n",
       "      <td>10.0</td>\n",
       "      <td>0.0</td>\n",
       "      <td>10.0</td>\n",
       "      <td>10.0</td>\n",
       "      <td>0.0</td>\n",
       "      <td>10.0</td>\n",
       "      <td>10.0</td>\n",
       "      <td>0.0</td>\n",
       "    </tr>\n",
       "    <tr>\n",
       "      <th>4</th>\n",
       "      <td>0020ccbbb6d84e358d3414a3ff76cffd</td>\n",
       "      <td>5.0</td>\n",
       "      <td>7.0</td>\n",
       "      <td>0.0</td>\n",
       "      <td>5.0</td>\n",
       "      <td>7.0</td>\n",
       "      <td>0.0</td>\n",
       "      <td>5.0</td>\n",
       "      <td>7.0</td>\n",
       "      <td>0.0</td>\n",
       "      <td>5.0</td>\n",
       "      <td>7.0</td>\n",
       "      <td>0.0</td>\n",
       "    </tr>\n",
       "  </tbody>\n",
       "</table>\n",
       "</div>"
      ],
      "text/plain": [
       "feature                            person  max_difficulty_bogo  \\\n",
       "0        0009655768c64bdeb2e877511632db8f                  5.0   \n",
       "1        00116118485d4dfda04fdbaba9a87b5c                  5.0   \n",
       "2        0011e0d4e6b944f998e987f904e8c1e5                  5.0   \n",
       "3        0020c2b971eb4e9188eac86d93036a77                 10.0   \n",
       "4        0020ccbbb6d84e358d3414a3ff76cffd                  5.0   \n",
       "\n",
       "feature  max_difficulty_discount  max_difficulty_informational  \\\n",
       "0                           10.0                           0.0   \n",
       "1                            0.0                           0.0   \n",
       "2                           20.0                           0.0   \n",
       "3                           10.0                           0.0   \n",
       "4                            7.0                           0.0   \n",
       "\n",
       "feature  mean_difficulty_bogo  mean_difficulty_discount  \\\n",
       "0                         5.0                      10.0   \n",
       "1                         5.0                       0.0   \n",
       "2                         5.0                      13.5   \n",
       "3                        10.0                      10.0   \n",
       "4                         5.0                       7.0   \n",
       "\n",
       "feature  mean_difficulty_informational  median_difficulty_bogo  \\\n",
       "0                                  0.0                     5.0   \n",
       "1                                  0.0                     5.0   \n",
       "2                                  0.0                     5.0   \n",
       "3                                  0.0                    10.0   \n",
       "4                                  0.0                     5.0   \n",
       "\n",
       "feature  median_difficulty_discount  median_difficulty_informational  \\\n",
       "0                              10.0                              0.0   \n",
       "1                               0.0                              0.0   \n",
       "2                              13.5                              0.0   \n",
       "3                              10.0                              0.0   \n",
       "4                               7.0                              0.0   \n",
       "\n",
       "feature  min_difficulty_bogo  min_difficulty_discount  \\\n",
       "0                        5.0                     10.0   \n",
       "1                        5.0                      0.0   \n",
       "2                        5.0                      7.0   \n",
       "3                       10.0                     10.0   \n",
       "4                        5.0                      7.0   \n",
       "\n",
       "feature  min_difficulty_informational  \n",
       "0                                 0.0  \n",
       "1                                 0.0  \n",
       "2                                 0.0  \n",
       "3                                 0.0  \n",
       "4                                 0.0  "
      ]
     },
     "execution_count": 7,
     "metadata": {},
     "output_type": "execute_result"
    }
   ],
   "source": [
    "offer_difficulty_df = calculate_feature_metrics_per_offer_type(\n",
    "    offers_delivered_df, 'difficulty'\n",
    ")\n",
    "\n",
    "offer_difficulty_df.head()"
   ]
  },
  {
   "cell_type": "markdown",
   "metadata": {},
   "source": [
    "### Offer duration per offer type"
   ]
  },
  {
   "cell_type": "code",
   "execution_count": 8,
   "metadata": {},
   "outputs": [
    {
     "data": {
      "text/html": [
       "<div>\n",
       "<style scoped>\n",
       "    .dataframe tbody tr th:only-of-type {\n",
       "        vertical-align: middle;\n",
       "    }\n",
       "\n",
       "    .dataframe tbody tr th {\n",
       "        vertical-align: top;\n",
       "    }\n",
       "\n",
       "    .dataframe thead th {\n",
       "        text-align: right;\n",
       "    }\n",
       "</style>\n",
       "<table border=\"1\" class=\"dataframe\">\n",
       "  <thead>\n",
       "    <tr style=\"text-align: right;\">\n",
       "      <th>feature</th>\n",
       "      <th>person</th>\n",
       "      <th>max_duration_bogo</th>\n",
       "      <th>max_duration_discount</th>\n",
       "      <th>max_duration_informational</th>\n",
       "      <th>mean_duration_bogo</th>\n",
       "      <th>mean_duration_discount</th>\n",
       "      <th>mean_duration_informational</th>\n",
       "      <th>median_duration_bogo</th>\n",
       "      <th>median_duration_discount</th>\n",
       "      <th>median_duration_informational</th>\n",
       "      <th>min_duration_bogo</th>\n",
       "      <th>min_duration_discount</th>\n",
       "      <th>min_duration_informational</th>\n",
       "    </tr>\n",
       "  </thead>\n",
       "  <tbody>\n",
       "    <tr>\n",
       "      <th>0</th>\n",
       "      <td>0009655768c64bdeb2e877511632db8f</td>\n",
       "      <td>5.0</td>\n",
       "      <td>10.0</td>\n",
       "      <td>4.0</td>\n",
       "      <td>5.0</td>\n",
       "      <td>8.8</td>\n",
       "      <td>3.5</td>\n",
       "      <td>5.0</td>\n",
       "      <td>10.0</td>\n",
       "      <td>3.5</td>\n",
       "      <td>5.0</td>\n",
       "      <td>7.0</td>\n",
       "      <td>3.0</td>\n",
       "    </tr>\n",
       "    <tr>\n",
       "      <th>1</th>\n",
       "      <td>00116118485d4dfda04fdbaba9a87b5c</td>\n",
       "      <td>5.0</td>\n",
       "      <td>0.0</td>\n",
       "      <td>0.0</td>\n",
       "      <td>5.0</td>\n",
       "      <td>0.0</td>\n",
       "      <td>0.0</td>\n",
       "      <td>5.0</td>\n",
       "      <td>0.0</td>\n",
       "      <td>0.0</td>\n",
       "      <td>5.0</td>\n",
       "      <td>0.0</td>\n",
       "      <td>0.0</td>\n",
       "    </tr>\n",
       "    <tr>\n",
       "      <th>2</th>\n",
       "      <td>0011e0d4e6b944f998e987f904e8c1e5</td>\n",
       "      <td>7.0</td>\n",
       "      <td>10.0</td>\n",
       "      <td>4.0</td>\n",
       "      <td>7.0</td>\n",
       "      <td>8.5</td>\n",
       "      <td>3.5</td>\n",
       "      <td>7.0</td>\n",
       "      <td>8.5</td>\n",
       "      <td>3.5</td>\n",
       "      <td>7.0</td>\n",
       "      <td>7.0</td>\n",
       "      <td>3.0</td>\n",
       "    </tr>\n",
       "    <tr>\n",
       "      <th>3</th>\n",
       "      <td>0020c2b971eb4e9188eac86d93036a77</td>\n",
       "      <td>7.0</td>\n",
       "      <td>10.0</td>\n",
       "      <td>3.0</td>\n",
       "      <td>5.5</td>\n",
       "      <td>10.0</td>\n",
       "      <td>3.0</td>\n",
       "      <td>5.0</td>\n",
       "      <td>10.0</td>\n",
       "      <td>3.0</td>\n",
       "      <td>5.0</td>\n",
       "      <td>10.0</td>\n",
       "      <td>3.0</td>\n",
       "    </tr>\n",
       "    <tr>\n",
       "      <th>4</th>\n",
       "      <td>0020ccbbb6d84e358d3414a3ff76cffd</td>\n",
       "      <td>7.0</td>\n",
       "      <td>7.0</td>\n",
       "      <td>3.0</td>\n",
       "      <td>6.0</td>\n",
       "      <td>7.0</td>\n",
       "      <td>3.0</td>\n",
       "      <td>6.0</td>\n",
       "      <td>7.0</td>\n",
       "      <td>3.0</td>\n",
       "      <td>5.0</td>\n",
       "      <td>7.0</td>\n",
       "      <td>3.0</td>\n",
       "    </tr>\n",
       "  </tbody>\n",
       "</table>\n",
       "</div>"
      ],
      "text/plain": [
       "feature                            person  max_duration_bogo  \\\n",
       "0        0009655768c64bdeb2e877511632db8f                5.0   \n",
       "1        00116118485d4dfda04fdbaba9a87b5c                5.0   \n",
       "2        0011e0d4e6b944f998e987f904e8c1e5                7.0   \n",
       "3        0020c2b971eb4e9188eac86d93036a77                7.0   \n",
       "4        0020ccbbb6d84e358d3414a3ff76cffd                7.0   \n",
       "\n",
       "feature  max_duration_discount  max_duration_informational  \\\n",
       "0                         10.0                         4.0   \n",
       "1                          0.0                         0.0   \n",
       "2                         10.0                         4.0   \n",
       "3                         10.0                         3.0   \n",
       "4                          7.0                         3.0   \n",
       "\n",
       "feature  mean_duration_bogo  mean_duration_discount  \\\n",
       "0                       5.0                     8.8   \n",
       "1                       5.0                     0.0   \n",
       "2                       7.0                     8.5   \n",
       "3                       5.5                    10.0   \n",
       "4                       6.0                     7.0   \n",
       "\n",
       "feature  mean_duration_informational  median_duration_bogo  \\\n",
       "0                                3.5                   5.0   \n",
       "1                                0.0                   5.0   \n",
       "2                                3.5                   7.0   \n",
       "3                                3.0                   5.0   \n",
       "4                                3.0                   6.0   \n",
       "\n",
       "feature  median_duration_discount  median_duration_informational  \\\n",
       "0                            10.0                            3.5   \n",
       "1                             0.0                            0.0   \n",
       "2                             8.5                            3.5   \n",
       "3                            10.0                            3.0   \n",
       "4                             7.0                            3.0   \n",
       "\n",
       "feature  min_duration_bogo  min_duration_discount  min_duration_informational  \n",
       "0                      5.0                    7.0                         3.0  \n",
       "1                      5.0                    0.0                         0.0  \n",
       "2                      7.0                    7.0                         3.0  \n",
       "3                      5.0                   10.0                         3.0  \n",
       "4                      5.0                    7.0                         3.0  "
      ]
     },
     "execution_count": 8,
     "metadata": {},
     "output_type": "execute_result"
    }
   ],
   "source": [
    "offer_duration_df = calculate_feature_metrics_per_offer_type(\n",
    "    offers_delivered_df, 'duration'\n",
    ")\n",
    "\n",
    "offer_duration_df.head()"
   ]
  },
  {
   "cell_type": "markdown",
   "metadata": {},
   "source": [
    "### Offer reward per offer type"
   ]
  },
  {
   "cell_type": "code",
   "execution_count": 9,
   "metadata": {},
   "outputs": [
    {
     "data": {
      "text/html": [
       "<div>\n",
       "<style scoped>\n",
       "    .dataframe tbody tr th:only-of-type {\n",
       "        vertical-align: middle;\n",
       "    }\n",
       "\n",
       "    .dataframe tbody tr th {\n",
       "        vertical-align: top;\n",
       "    }\n",
       "\n",
       "    .dataframe thead th {\n",
       "        text-align: right;\n",
       "    }\n",
       "</style>\n",
       "<table border=\"1\" class=\"dataframe\">\n",
       "  <thead>\n",
       "    <tr style=\"text-align: right;\">\n",
       "      <th>feature</th>\n",
       "      <th>person</th>\n",
       "      <th>max_reward_bogo</th>\n",
       "      <th>max_reward_discount</th>\n",
       "      <th>max_reward_informational</th>\n",
       "      <th>mean_reward_bogo</th>\n",
       "      <th>mean_reward_discount</th>\n",
       "      <th>mean_reward_informational</th>\n",
       "      <th>median_reward_bogo</th>\n",
       "      <th>median_reward_discount</th>\n",
       "      <th>median_reward_informational</th>\n",
       "      <th>min_reward_bogo</th>\n",
       "      <th>min_reward_discount</th>\n",
       "      <th>min_reward_informational</th>\n",
       "    </tr>\n",
       "  </thead>\n",
       "  <tbody>\n",
       "    <tr>\n",
       "      <th>0</th>\n",
       "      <td>0009655768c64bdeb2e877511632db8f</td>\n",
       "      <td>5.0</td>\n",
       "      <td>2.0</td>\n",
       "      <td>0.0</td>\n",
       "      <td>5.0</td>\n",
       "      <td>2.0</td>\n",
       "      <td>0.0</td>\n",
       "      <td>5.0</td>\n",
       "      <td>2.0</td>\n",
       "      <td>0.0</td>\n",
       "      <td>5.0</td>\n",
       "      <td>2.0</td>\n",
       "      <td>0.0</td>\n",
       "    </tr>\n",
       "    <tr>\n",
       "      <th>1</th>\n",
       "      <td>00116118485d4dfda04fdbaba9a87b5c</td>\n",
       "      <td>5.0</td>\n",
       "      <td>0.0</td>\n",
       "      <td>0.0</td>\n",
       "      <td>5.0</td>\n",
       "      <td>0.0</td>\n",
       "      <td>0.0</td>\n",
       "      <td>5.0</td>\n",
       "      <td>0.0</td>\n",
       "      <td>0.0</td>\n",
       "      <td>5.0</td>\n",
       "      <td>0.0</td>\n",
       "      <td>0.0</td>\n",
       "    </tr>\n",
       "    <tr>\n",
       "      <th>2</th>\n",
       "      <td>0011e0d4e6b944f998e987f904e8c1e5</td>\n",
       "      <td>5.0</td>\n",
       "      <td>5.0</td>\n",
       "      <td>0.0</td>\n",
       "      <td>5.0</td>\n",
       "      <td>4.0</td>\n",
       "      <td>0.0</td>\n",
       "      <td>5.0</td>\n",
       "      <td>4.0</td>\n",
       "      <td>0.0</td>\n",
       "      <td>5.0</td>\n",
       "      <td>3.0</td>\n",
       "      <td>0.0</td>\n",
       "    </tr>\n",
       "    <tr>\n",
       "      <th>3</th>\n",
       "      <td>0020c2b971eb4e9188eac86d93036a77</td>\n",
       "      <td>10.0</td>\n",
       "      <td>2.0</td>\n",
       "      <td>0.0</td>\n",
       "      <td>10.0</td>\n",
       "      <td>2.0</td>\n",
       "      <td>0.0</td>\n",
       "      <td>10.0</td>\n",
       "      <td>2.0</td>\n",
       "      <td>0.0</td>\n",
       "      <td>10.0</td>\n",
       "      <td>2.0</td>\n",
       "      <td>0.0</td>\n",
       "    </tr>\n",
       "    <tr>\n",
       "      <th>4</th>\n",
       "      <td>0020ccbbb6d84e358d3414a3ff76cffd</td>\n",
       "      <td>5.0</td>\n",
       "      <td>3.0</td>\n",
       "      <td>0.0</td>\n",
       "      <td>5.0</td>\n",
       "      <td>3.0</td>\n",
       "      <td>0.0</td>\n",
       "      <td>5.0</td>\n",
       "      <td>3.0</td>\n",
       "      <td>0.0</td>\n",
       "      <td>5.0</td>\n",
       "      <td>3.0</td>\n",
       "      <td>0.0</td>\n",
       "    </tr>\n",
       "  </tbody>\n",
       "</table>\n",
       "</div>"
      ],
      "text/plain": [
       "feature                            person  max_reward_bogo  \\\n",
       "0        0009655768c64bdeb2e877511632db8f              5.0   \n",
       "1        00116118485d4dfda04fdbaba9a87b5c              5.0   \n",
       "2        0011e0d4e6b944f998e987f904e8c1e5              5.0   \n",
       "3        0020c2b971eb4e9188eac86d93036a77             10.0   \n",
       "4        0020ccbbb6d84e358d3414a3ff76cffd              5.0   \n",
       "\n",
       "feature  max_reward_discount  max_reward_informational  mean_reward_bogo  \\\n",
       "0                        2.0                       0.0               5.0   \n",
       "1                        0.0                       0.0               5.0   \n",
       "2                        5.0                       0.0               5.0   \n",
       "3                        2.0                       0.0              10.0   \n",
       "4                        3.0                       0.0               5.0   \n",
       "\n",
       "feature  mean_reward_discount  mean_reward_informational  median_reward_bogo  \\\n",
       "0                         2.0                        0.0                 5.0   \n",
       "1                         0.0                        0.0                 5.0   \n",
       "2                         4.0                        0.0                 5.0   \n",
       "3                         2.0                        0.0                10.0   \n",
       "4                         3.0                        0.0                 5.0   \n",
       "\n",
       "feature  median_reward_discount  median_reward_informational  min_reward_bogo  \\\n",
       "0                           2.0                          0.0              5.0   \n",
       "1                           0.0                          0.0              5.0   \n",
       "2                           4.0                          0.0              5.0   \n",
       "3                           2.0                          0.0             10.0   \n",
       "4                           3.0                          0.0              5.0   \n",
       "\n",
       "feature  min_reward_discount  min_reward_informational  \n",
       "0                        2.0                       0.0  \n",
       "1                        0.0                       0.0  \n",
       "2                        3.0                       0.0  \n",
       "3                        2.0                       0.0  \n",
       "4                        3.0                       0.0  "
      ]
     },
     "execution_count": 9,
     "metadata": {},
     "output_type": "execute_result"
    }
   ],
   "source": [
    "offer_reward_df = calculate_feature_metrics_per_offer_type(\n",
    "    offers_delivered_df, 'reward'\n",
    ")\n",
    "\n",
    "offer_reward_df.head()"
   ]
  },
  {
   "cell_type": "markdown",
   "metadata": {},
   "source": [
    "### When the customer became member"
   ]
  },
  {
   "cell_type": "code",
   "execution_count": 10,
   "metadata": {},
   "outputs": [
    {
     "data": {
      "text/html": [
       "<div>\n",
       "<style scoped>\n",
       "    .dataframe tbody tr th:only-of-type {\n",
       "        vertical-align: middle;\n",
       "    }\n",
       "\n",
       "    .dataframe tbody tr th {\n",
       "        vertical-align: top;\n",
       "    }\n",
       "\n",
       "    .dataframe thead th {\n",
       "        text-align: right;\n",
       "    }\n",
       "</style>\n",
       "<table border=\"1\" class=\"dataframe\">\n",
       "  <thead>\n",
       "    <tr style=\"text-align: right;\">\n",
       "      <th></th>\n",
       "      <th>person</th>\n",
       "      <th>became_member_after_2017</th>\n",
       "    </tr>\n",
       "  </thead>\n",
       "  <tbody>\n",
       "    <tr>\n",
       "      <th>0</th>\n",
       "      <td>68be06ca386d4c31939f3a4f0e3dd783</td>\n",
       "      <td>1</td>\n",
       "    </tr>\n",
       "    <tr>\n",
       "      <th>1</th>\n",
       "      <td>0610b486422d4921ae7d2bf64640c50b</td>\n",
       "      <td>1</td>\n",
       "    </tr>\n",
       "    <tr>\n",
       "      <th>2</th>\n",
       "      <td>38fe809add3b4fcf9315a9694bb96ff5</td>\n",
       "      <td>1</td>\n",
       "    </tr>\n",
       "    <tr>\n",
       "      <th>3</th>\n",
       "      <td>78afa995795e4d85b5d9ceeca43f5fef</td>\n",
       "      <td>1</td>\n",
       "    </tr>\n",
       "    <tr>\n",
       "      <th>4</th>\n",
       "      <td>a03223e636434f42ac4c3df47e8bac43</td>\n",
       "      <td>1</td>\n",
       "    </tr>\n",
       "  </tbody>\n",
       "</table>\n",
       "</div>"
      ],
      "text/plain": [
       "                             person  became_member_after_2017\n",
       "0  68be06ca386d4c31939f3a4f0e3dd783                         1\n",
       "1  0610b486422d4921ae7d2bf64640c50b                         1\n",
       "2  38fe809add3b4fcf9315a9694bb96ff5                         1\n",
       "3  78afa995795e4d85b5d9ceeca43f5fef                         1\n",
       "4  a03223e636434f42ac4c3df47e8bac43                         1"
      ]
     },
     "execution_count": 10,
     "metadata": {},
     "output_type": "execute_result"
    }
   ],
   "source": [
    "recent_customer_df = profile_df[['id', 'became_member_on']].copy()\n",
    "recent_customer_df['became_member_year'] = recent_customer_df\\\n",
    "    .became_member_on.astype(str).apply(lambda x: x[:4]).astype(int)\n",
    "\n",
    "recent_customer_df['became_member_after_2017'] = \\\n",
    "    (recent_customer_df.became_member_year >= 2017)*1\n",
    "\n",
    "recent_customer_df = recent_customer_df[['id', 'became_member_after_2017']]\n",
    "recent_customer_df = recent_customer_df.rename(columns={\n",
    "    'id':'person'\n",
    "})\n",
    "\n",
    "recent_customer_df.head()"
   ]
  },
  {
   "cell_type": "markdown",
   "metadata": {},
   "source": [
    "### Target variable of clients to target the offers"
   ]
  },
  {
   "cell_type": "code",
   "execution_count": 11,
   "metadata": {},
   "outputs": [],
   "source": [
    "transactions_per_offer_type_df = dp.get_customer_transactions_per_offer_type(\n",
    "    transcript_df, offers_delivered_df\n",
    ")"
   ]
  },
  {
   "cell_type": "code",
   "execution_count": 12,
   "metadata": {},
   "outputs": [
    {
     "data": {
      "text/html": [
       "<div>\n",
       "<style scoped>\n",
       "    .dataframe tbody tr th:only-of-type {\n",
       "        vertical-align: middle;\n",
       "    }\n",
       "\n",
       "    .dataframe tbody tr th {\n",
       "        vertical-align: top;\n",
       "    }\n",
       "\n",
       "    .dataframe thead th {\n",
       "        text-align: right;\n",
       "    }\n",
       "</style>\n",
       "<table border=\"1\" class=\"dataframe\">\n",
       "  <thead>\n",
       "    <tr style=\"text-align: right;\">\n",
       "      <th>is_offer</th>\n",
       "      <th>person</th>\n",
       "      <th>avg_amount_without_offer</th>\n",
       "      <th>avg_amount_with_offer</th>\n",
       "      <th>should_target_offer</th>\n",
       "    </tr>\n",
       "  </thead>\n",
       "  <tbody>\n",
       "    <tr>\n",
       "      <th>16573</th>\n",
       "      <td>fff3ba4757bd42088c044ca26d73817a</td>\n",
       "      <td>19.09</td>\n",
       "      <td>204.60</td>\n",
       "      <td>True</td>\n",
       "    </tr>\n",
       "    <tr>\n",
       "      <th>16574</th>\n",
       "      <td>fff7576017104bcc8677a8d63322b5e1</td>\n",
       "      <td>4.99</td>\n",
       "      <td>0.00</td>\n",
       "      <td>False</td>\n",
       "    </tr>\n",
       "    <tr>\n",
       "      <th>16575</th>\n",
       "      <td>fff8957ea8b240a6b5e634b6ee8eafcf</td>\n",
       "      <td>2.43</td>\n",
       "      <td>0.00</td>\n",
       "      <td>False</td>\n",
       "    </tr>\n",
       "    <tr>\n",
       "      <th>16576</th>\n",
       "      <td>fffad4f4828548d1b5583907f2e9906b</td>\n",
       "      <td>7.40</td>\n",
       "      <td>0.00</td>\n",
       "      <td>False</td>\n",
       "    </tr>\n",
       "    <tr>\n",
       "      <th>16577</th>\n",
       "      <td>ffff82501cea40309d5fdd7edcca4a07</td>\n",
       "      <td>14.89</td>\n",
       "      <td>17.55</td>\n",
       "      <td>True</td>\n",
       "    </tr>\n",
       "  </tbody>\n",
       "</table>\n",
       "</div>"
      ],
      "text/plain": [
       "is_offer                            person  avg_amount_without_offer  \\\n",
       "16573     fff3ba4757bd42088c044ca26d73817a                     19.09   \n",
       "16574     fff7576017104bcc8677a8d63322b5e1                      4.99   \n",
       "16575     fff8957ea8b240a6b5e634b6ee8eafcf                      2.43   \n",
       "16576     fffad4f4828548d1b5583907f2e9906b                      7.40   \n",
       "16577     ffff82501cea40309d5fdd7edcca4a07                     14.89   \n",
       "\n",
       "is_offer  avg_amount_with_offer  should_target_offer  \n",
       "16573                    204.60                 True  \n",
       "16574                      0.00                False  \n",
       "16575                      0.00                False  \n",
       "16576                      0.00                False  \n",
       "16577                     17.55                 True  "
      ]
     },
     "execution_count": 12,
     "metadata": {},
     "output_type": "execute_result"
    }
   ],
   "source": [
    "grouped_df = transactions_per_offer_type_df.groupby(['person', 'is_offer'])\\\n",
    "    .amount.mean().reset_index()\n",
    "\n",
    "pivot_df = grouped_df.pivot(\n",
    "    index='person', \n",
    "    columns='is_offer', \n",
    "    values='amount'\n",
    ").fillna(0).round(2).reset_index()\n",
    "\n",
    "pivot_df = pivot_df.rename(columns={\n",
    "    0:'avg_amount_without_offer', 1:'avg_amount_with_offer'\n",
    "})\n",
    "\n",
    "pivot_df['should_target_offer'] = \\\n",
    "    pivot_df['avg_amount_with_offer'] > pivot_df['avg_amount_without_offer']\n",
    "\n",
    "pivot_df.tail()"
   ]
  },
  {
   "cell_type": "code",
   "execution_count": 13,
   "metadata": {},
   "outputs": [],
   "source": [
    "customers_to_target_df = pivot_df[['person', 'should_target_offer']]"
   ]
  },
  {
   "cell_type": "code",
   "execution_count": 14,
   "metadata": {},
   "outputs": [],
   "source": [
    "def get_best_offer_type(bogo, discount):\n",
    "        \n",
    "    if bogo > discount:\n",
    "        return 'bogo'\n",
    "\n",
    "    if discount > bogo:\n",
    "        return 'discount'\n",
    "\n",
    "    if discount + bogo == 0:\n",
    "        return 'none'\n",
    "        \n",
    "    return 'either'"
   ]
  },
  {
   "cell_type": "code",
   "execution_count": 15,
   "metadata": {},
   "outputs": [
    {
     "data": {
      "text/html": [
       "<div>\n",
       "<style scoped>\n",
       "    .dataframe tbody tr th:only-of-type {\n",
       "        vertical-align: middle;\n",
       "    }\n",
       "\n",
       "    .dataframe tbody tr th {\n",
       "        vertical-align: top;\n",
       "    }\n",
       "\n",
       "    .dataframe thead th {\n",
       "        text-align: right;\n",
       "    }\n",
       "</style>\n",
       "<table border=\"1\" class=\"dataframe\">\n",
       "  <thead>\n",
       "    <tr style=\"text-align: right;\">\n",
       "      <th>offer_type</th>\n",
       "      <th>person</th>\n",
       "      <th>best_offer_type</th>\n",
       "    </tr>\n",
       "  </thead>\n",
       "  <tbody>\n",
       "    <tr>\n",
       "      <th>0</th>\n",
       "      <td>0009655768c64bdeb2e877511632db8f</td>\n",
       "      <td>discount</td>\n",
       "    </tr>\n",
       "    <tr>\n",
       "      <th>1</th>\n",
       "      <td>00116118485d4dfda04fdbaba9a87b5c</td>\n",
       "      <td>none</td>\n",
       "    </tr>\n",
       "    <tr>\n",
       "      <th>2</th>\n",
       "      <td>0011e0d4e6b944f998e987f904e8c1e5</td>\n",
       "      <td>discount</td>\n",
       "    </tr>\n",
       "    <tr>\n",
       "      <th>3</th>\n",
       "      <td>0020c2b971eb4e9188eac86d93036a77</td>\n",
       "      <td>discount</td>\n",
       "    </tr>\n",
       "    <tr>\n",
       "      <th>4</th>\n",
       "      <td>0020ccbbb6d84e358d3414a3ff76cffd</td>\n",
       "      <td>bogo</td>\n",
       "    </tr>\n",
       "  </tbody>\n",
       "</table>\n",
       "</div>"
      ],
      "text/plain": [
       "offer_type                            person best_offer_type\n",
       "0           0009655768c64bdeb2e877511632db8f        discount\n",
       "1           00116118485d4dfda04fdbaba9a87b5c            none\n",
       "2           0011e0d4e6b944f998e987f904e8c1e5        discount\n",
       "3           0020c2b971eb4e9188eac86d93036a77        discount\n",
       "4           0020ccbbb6d84e358d3414a3ff76cffd            bogo"
      ]
     },
     "execution_count": 15,
     "metadata": {},
     "output_type": "execute_result"
    }
   ],
   "source": [
    "offers_completed_df = dp.get_offer_completion_per_customer(offers_delivered_df)\n",
    "\n",
    "offers_completed_df['best_offer_type'] = offers_completed_df.apply(\n",
    "    lambda x: get_best_offer_type(x.bogo, x.discount), axis=1\n",
    ")\n",
    "\n",
    "offers_completed_df = offers_completed_df[['person', 'best_offer_type']]\n",
    "offers_completed_df.head()"
   ]
  },
  {
   "cell_type": "markdown",
   "metadata": {},
   "source": [
    "## Combining all the features"
   ]
  },
  {
   "cell_type": "code",
   "execution_count": 16,
   "metadata": {},
   "outputs": [],
   "source": [
    "def join_dataframes(df1, df2, fill_nans=True):\n",
    "    \n",
    "    df = df1.merge(\n",
    "        df2, \n",
    "        left_on='id', \n",
    "        right_on='person', \n",
    "        how='left'\n",
    "    )\n",
    "\n",
    "    df = df.drop(columns=['person'], axis=1)\n",
    "\n",
    "    for col in df2.columns[1:]:\n",
    "        if fill_nans == True:\n",
    "            df[col] = df[col].fillna(0)\n",
    "\n",
    "    return df"
   ]
  },
  {
   "cell_type": "code",
   "execution_count": 59,
   "metadata": {},
   "outputs": [],
   "source": [
    "df = demographic_df.copy()\n",
    "df = join_dataframes(df, offer_interactions_df)\n",
    "df = join_dataframes(df, offer_difficulty_df)\n",
    "df = join_dataframes(df, offer_duration_df)\n",
    "df = join_dataframes(df, recent_customer_df)\n",
    "df = join_dataframes(df, customers_to_target_df)\n",
    "df = join_dataframes(df, offers_completed_df, fill_nans=False)"
   ]
  },
  {
   "cell_type": "code",
   "execution_count": 60,
   "metadata": {},
   "outputs": [
    {
     "data": {
      "text/html": [
       "<div>\n",
       "<style scoped>\n",
       "    .dataframe tbody tr th:only-of-type {\n",
       "        vertical-align: middle;\n",
       "    }\n",
       "\n",
       "    .dataframe tbody tr th {\n",
       "        vertical-align: top;\n",
       "    }\n",
       "\n",
       "    .dataframe thead th {\n",
       "        text-align: right;\n",
       "    }\n",
       "</style>\n",
       "<table border=\"1\" class=\"dataframe\">\n",
       "  <thead>\n",
       "    <tr style=\"text-align: right;\">\n",
       "      <th></th>\n",
       "      <th>id</th>\n",
       "      <th>age</th>\n",
       "      <th>gender</th>\n",
       "      <th>income</th>\n",
       "      <th>qty_bogo_offer_received</th>\n",
       "      <th>qty_bogo_offer_viewed</th>\n",
       "      <th>qty_discount_offer_received</th>\n",
       "      <th>qty_discount_offer_viewed</th>\n",
       "      <th>qty_informational_offer_received</th>\n",
       "      <th>qty_informational_offer_viewed</th>\n",
       "      <th>...</th>\n",
       "      <th>mean_duration_informational</th>\n",
       "      <th>median_duration_bogo</th>\n",
       "      <th>median_duration_discount</th>\n",
       "      <th>median_duration_informational</th>\n",
       "      <th>min_duration_bogo</th>\n",
       "      <th>min_duration_discount</th>\n",
       "      <th>min_duration_informational</th>\n",
       "      <th>became_member_after_2017</th>\n",
       "      <th>should_target_offer</th>\n",
       "      <th>best_offer_type</th>\n",
       "    </tr>\n",
       "  </thead>\n",
       "  <tbody>\n",
       "    <tr>\n",
       "      <th>0</th>\n",
       "      <td>68be06ca386d4c31939f3a4f0e3dd783</td>\n",
       "      <td>118</td>\n",
       "      <td>None</td>\n",
       "      <td>NaN</td>\n",
       "      <td>0.0</td>\n",
       "      <td>0.0</td>\n",
       "      <td>5.0</td>\n",
       "      <td>5.0</td>\n",
       "      <td>0.0</td>\n",
       "      <td>0.0</td>\n",
       "      <td>...</td>\n",
       "      <td>0.00</td>\n",
       "      <td>0.0</td>\n",
       "      <td>10.0</td>\n",
       "      <td>0.0</td>\n",
       "      <td>0.0</td>\n",
       "      <td>7.0</td>\n",
       "      <td>0.0</td>\n",
       "      <td>1</td>\n",
       "      <td>True</td>\n",
       "      <td>discount</td>\n",
       "    </tr>\n",
       "    <tr>\n",
       "      <th>1</th>\n",
       "      <td>0610b486422d4921ae7d2bf64640c50b</td>\n",
       "      <td>55</td>\n",
       "      <td>F</td>\n",
       "      <td>112000.0</td>\n",
       "      <td>1.0</td>\n",
       "      <td>0.0</td>\n",
       "      <td>0.0</td>\n",
       "      <td>0.0</td>\n",
       "      <td>1.0</td>\n",
       "      <td>0.0</td>\n",
       "      <td>...</td>\n",
       "      <td>4.00</td>\n",
       "      <td>7.0</td>\n",
       "      <td>0.0</td>\n",
       "      <td>4.0</td>\n",
       "      <td>7.0</td>\n",
       "      <td>0.0</td>\n",
       "      <td>4.0</td>\n",
       "      <td>1</td>\n",
       "      <td>False</td>\n",
       "      <td>bogo</td>\n",
       "    </tr>\n",
       "    <tr>\n",
       "      <th>2</th>\n",
       "      <td>38fe809add3b4fcf9315a9694bb96ff5</td>\n",
       "      <td>118</td>\n",
       "      <td>None</td>\n",
       "      <td>NaN</td>\n",
       "      <td>1.0</td>\n",
       "      <td>1.0</td>\n",
       "      <td>0.0</td>\n",
       "      <td>0.0</td>\n",
       "      <td>1.0</td>\n",
       "      <td>1.0</td>\n",
       "      <td>...</td>\n",
       "      <td>3.00</td>\n",
       "      <td>7.0</td>\n",
       "      <td>0.0</td>\n",
       "      <td>3.0</td>\n",
       "      <td>7.0</td>\n",
       "      <td>0.0</td>\n",
       "      <td>3.0</td>\n",
       "      <td>1</td>\n",
       "      <td>False</td>\n",
       "      <td>none</td>\n",
       "    </tr>\n",
       "    <tr>\n",
       "      <th>3</th>\n",
       "      <td>78afa995795e4d85b5d9ceeca43f5fef</td>\n",
       "      <td>75</td>\n",
       "      <td>F</td>\n",
       "      <td>100000.0</td>\n",
       "      <td>3.0</td>\n",
       "      <td>3.0</td>\n",
       "      <td>0.0</td>\n",
       "      <td>0.0</td>\n",
       "      <td>1.0</td>\n",
       "      <td>1.0</td>\n",
       "      <td>...</td>\n",
       "      <td>3.00</td>\n",
       "      <td>7.0</td>\n",
       "      <td>0.0</td>\n",
       "      <td>3.0</td>\n",
       "      <td>5.0</td>\n",
       "      <td>0.0</td>\n",
       "      <td>3.0</td>\n",
       "      <td>1</td>\n",
       "      <td>False</td>\n",
       "      <td>bogo</td>\n",
       "    </tr>\n",
       "    <tr>\n",
       "      <th>4</th>\n",
       "      <td>a03223e636434f42ac4c3df47e8bac43</td>\n",
       "      <td>118</td>\n",
       "      <td>None</td>\n",
       "      <td>NaN</td>\n",
       "      <td>0.0</td>\n",
       "      <td>0.0</td>\n",
       "      <td>3.0</td>\n",
       "      <td>2.0</td>\n",
       "      <td>2.0</td>\n",
       "      <td>1.0</td>\n",
       "      <td>...</td>\n",
       "      <td>3.67</td>\n",
       "      <td>0.0</td>\n",
       "      <td>10.0</td>\n",
       "      <td>4.0</td>\n",
       "      <td>0.0</td>\n",
       "      <td>10.0</td>\n",
       "      <td>3.0</td>\n",
       "      <td>1</td>\n",
       "      <td>False</td>\n",
       "      <td>none</td>\n",
       "    </tr>\n",
       "  </tbody>\n",
       "</table>\n",
       "<p>5 rows × 37 columns</p>\n",
       "</div>"
      ],
      "text/plain": [
       "                                 id  age gender    income  \\\n",
       "0  68be06ca386d4c31939f3a4f0e3dd783  118   None       NaN   \n",
       "1  0610b486422d4921ae7d2bf64640c50b   55      F  112000.0   \n",
       "2  38fe809add3b4fcf9315a9694bb96ff5  118   None       NaN   \n",
       "3  78afa995795e4d85b5d9ceeca43f5fef   75      F  100000.0   \n",
       "4  a03223e636434f42ac4c3df47e8bac43  118   None       NaN   \n",
       "\n",
       "   qty_bogo_offer_received  qty_bogo_offer_viewed  \\\n",
       "0                      0.0                    0.0   \n",
       "1                      1.0                    0.0   \n",
       "2                      1.0                    1.0   \n",
       "3                      3.0                    3.0   \n",
       "4                      0.0                    0.0   \n",
       "\n",
       "   qty_discount_offer_received  qty_discount_offer_viewed  \\\n",
       "0                          5.0                        5.0   \n",
       "1                          0.0                        0.0   \n",
       "2                          0.0                        0.0   \n",
       "3                          0.0                        0.0   \n",
       "4                          3.0                        2.0   \n",
       "\n",
       "   qty_informational_offer_received  qty_informational_offer_viewed  ...  \\\n",
       "0                               0.0                             0.0  ...   \n",
       "1                               1.0                             0.0  ...   \n",
       "2                               1.0                             1.0  ...   \n",
       "3                               1.0                             1.0  ...   \n",
       "4                               2.0                             1.0  ...   \n",
       "\n",
       "   mean_duration_informational  median_duration_bogo  \\\n",
       "0                         0.00                   0.0   \n",
       "1                         4.00                   7.0   \n",
       "2                         3.00                   7.0   \n",
       "3                         3.00                   7.0   \n",
       "4                         3.67                   0.0   \n",
       "\n",
       "   median_duration_discount  median_duration_informational  min_duration_bogo  \\\n",
       "0                      10.0                            0.0                0.0   \n",
       "1                       0.0                            4.0                7.0   \n",
       "2                       0.0                            3.0                7.0   \n",
       "3                       0.0                            3.0                5.0   \n",
       "4                      10.0                            4.0                0.0   \n",
       "\n",
       "   min_duration_discount  min_duration_informational  \\\n",
       "0                    7.0                         0.0   \n",
       "1                    0.0                         4.0   \n",
       "2                    0.0                         3.0   \n",
       "3                    0.0                         3.0   \n",
       "4                   10.0                         3.0   \n",
       "\n",
       "   became_member_after_2017  should_target_offer  best_offer_type  \n",
       "0                         1                 True         discount  \n",
       "1                         1                False             bogo  \n",
       "2                         1                False             none  \n",
       "3                         1                False             bogo  \n",
       "4                         1                False             none  \n",
       "\n",
       "[5 rows x 37 columns]"
      ]
     },
     "execution_count": 60,
     "metadata": {},
     "output_type": "execute_result"
    }
   ],
   "source": [
    "df.head()"
   ]
  },
  {
   "cell_type": "code",
   "execution_count": 61,
   "metadata": {},
   "outputs": [],
   "source": [
    "df['best_offer_type'] = df['best_offer_type']\\\n",
    "    .fillna(df['should_target_offer'].map(lambda x: 'either' if x is True else 'none'))"
   ]
  },
  {
   "cell_type": "code",
   "execution_count": 62,
   "metadata": {},
   "outputs": [],
   "source": [
    "df['should_target_offer'] = df['best_offer_type'].apply(\n",
    "    lambda x: 'target' if x != 'none' else 'not_target'\n",
    ")"
   ]
  },
  {
   "cell_type": "markdown",
   "metadata": {},
   "source": [
    "## Splitting data in training, validation and test subsets"
   ]
  },
  {
   "cell_type": "code",
   "execution_count": 63,
   "metadata": {},
   "outputs": [],
   "source": [
    "X = df.drop(columns=['id', 'should_target_offer', 'best_offer_type'], axis=1)\n",
    "y = df.should_target_offer"
   ]
  },
  {
   "cell_type": "code",
   "execution_count": 64,
   "metadata": {},
   "outputs": [
    {
     "data": {
      "text/plain": [
       "((11475, 34), (3825, 34), (1700, 34))"
      ]
     },
     "execution_count": 64,
     "metadata": {},
     "output_type": "execute_result"
    }
   ],
   "source": [
    "X_train_val, X_test, y_train_val, y_test = train_test_split(\n",
    "    X, y, test_size= 0.1, random_state=42\n",
    ")\n",
    "\n",
    "X_train, X_val, y_train, y_val = train_test_split(\n",
    "    X_train_val, y_train_val, test_size= 0.25, random_state=42\n",
    ")\n",
    "\n",
    "X_train.shape, X_val.shape, X_test.shape"
   ]
  },
  {
   "cell_type": "markdown",
   "metadata": {},
   "source": [
    "## Dealing with missing data"
   ]
  },
  {
   "cell_type": "code",
   "execution_count": 65,
   "metadata": {},
   "outputs": [],
   "source": [
    "missing_values_dict = {\n",
    "    'gender': mode(X_train['gender']),\n",
    "    'income': X_train.income.median()\n",
    "}"
   ]
  },
  {
   "cell_type": "code",
   "execution_count": 66,
   "metadata": {},
   "outputs": [],
   "source": [
    "def fill_missing_data(df, missing_values_dict):\n",
    "\n",
    "    new_df = df.copy()\n",
    "\n",
    "    new_df['gender'] = new_df['gender'].fillna(missing_values_dict['gender'])\n",
    "    new_df['income'] = new_df['income'].fillna(missing_values_dict['income'])\n",
    "\n",
    "    return new_df"
   ]
  },
  {
   "cell_type": "code",
   "execution_count": 67,
   "metadata": {},
   "outputs": [],
   "source": [
    "X_train = fill_missing_data(X_train, missing_values_dict)\n",
    "X_val = fill_missing_data(X_val, missing_values_dict)\n",
    "X_test = fill_missing_data(X_test, missing_values_dict)"
   ]
  },
  {
   "cell_type": "markdown",
   "metadata": {},
   "source": [
    "## Handling the categorical data"
   ]
  },
  {
   "cell_type": "markdown",
   "metadata": {},
   "source": [
    "### Using One Hot Encoding on categorical data"
   ]
  },
  {
   "cell_type": "code",
   "execution_count": 68,
   "metadata": {},
   "outputs": [],
   "source": [
    "def apply_one_hot_encoding(df, feature, encoder):\n",
    "\n",
    "    one_hot_enc_df = encoder.transform(df[feature].values.reshape(-1,1)).toarray()\n",
    "    \n",
    "    enc_df = pd.DataFrame(\n",
    "        one_hot_enc_df, \n",
    "        columns = encoder.categories_[0][1:].tolist()\n",
    "    )\n",
    "    \n",
    "    new_cols_names = {col: feature + '_' + col for col in enc_df.columns}\n",
    "    enc_df = enc_df.rename(columns = new_cols_names)\n",
    "\n",
    "    final_df = pd.concat([df.reset_index(), enc_df], axis = 1)\\\n",
    "        .drop(columns = ['index', feature])\n",
    "    \n",
    "    return final_df"
   ]
  },
  {
   "cell_type": "code",
   "execution_count": 69,
   "metadata": {},
   "outputs": [],
   "source": [
    "def feature_one_hot_encoding(X_train, X_val, X_test, feature):\n",
    "    \n",
    "    encoder = OneHotEncoder(drop='first').fit(X_train[feature].values.reshape(-1,1))\n",
    "\n",
    "    X_train = apply_one_hot_encoding(X_train, feature, encoder)\n",
    "    X_val = apply_one_hot_encoding(X_val, feature, encoder)\n",
    "    X_test = apply_one_hot_encoding(X_test, feature, encoder)\n",
    "\n",
    "    return X_train, X_val, X_test"
   ]
  },
  {
   "cell_type": "code",
   "execution_count": 70,
   "metadata": {},
   "outputs": [],
   "source": [
    "X_train, X_val, X_test = feature_one_hot_encoding(\n",
    "    X_train, X_val, X_test, 'gender'\n",
    ")"
   ]
  },
  {
   "cell_type": "markdown",
   "metadata": {},
   "source": [
    "### Using Label Encoding on the target variable"
   ]
  },
  {
   "cell_type": "code",
   "execution_count": 71,
   "metadata": {},
   "outputs": [],
   "source": [
    "le = LabelEncoder()\n",
    "le.fit(y_train)\n",
    "\n",
    "y_train = le.transform(y_train)\n",
    "y_val = le.transform(y_val)\n",
    "y_test = le.transform(y_test)"
   ]
  },
  {
   "cell_type": "code",
   "execution_count": 72,
   "metadata": {},
   "outputs": [
    {
     "data": {
      "text/html": [
       "<div>\n",
       "<style scoped>\n",
       "    .dataframe tbody tr th:only-of-type {\n",
       "        vertical-align: middle;\n",
       "    }\n",
       "\n",
       "    .dataframe tbody tr th {\n",
       "        vertical-align: top;\n",
       "    }\n",
       "\n",
       "    .dataframe thead th {\n",
       "        text-align: right;\n",
       "    }\n",
       "</style>\n",
       "<table border=\"1\" class=\"dataframe\">\n",
       "  <thead>\n",
       "    <tr style=\"text-align: right;\">\n",
       "      <th></th>\n",
       "      <th>class</th>\n",
       "      <th>value</th>\n",
       "    </tr>\n",
       "  </thead>\n",
       "  <tbody>\n",
       "    <tr>\n",
       "      <th>0</th>\n",
       "      <td>not_target</td>\n",
       "      <td>0</td>\n",
       "    </tr>\n",
       "    <tr>\n",
       "      <th>1</th>\n",
       "      <td>target</td>\n",
       "      <td>1</td>\n",
       "    </tr>\n",
       "  </tbody>\n",
       "</table>\n",
       "</div>"
      ],
      "text/plain": [
       "        class  value\n",
       "0  not_target      0\n",
       "1      target      1"
      ]
     },
     "execution_count": 72,
     "metadata": {},
     "output_type": "execute_result"
    }
   ],
   "source": [
    "label_mapping_df = pd.DataFrame({\n",
    "    'class': le.classes_ , 'value': le.transform(le.classes_)\n",
    "})\n",
    "\n",
    "label_mapping_df"
   ]
  },
  {
   "cell_type": "markdown",
   "metadata": {},
   "source": [
    "## Building the models"
   ]
  },
  {
   "cell_type": "markdown",
   "metadata": {},
   "source": [
    "### Auxiliar functions"
   ]
  },
  {
   "cell_type": "code",
   "execution_count": 75,
   "metadata": {},
   "outputs": [],
   "source": [
    "def plot_balanced_accuracy_heatmap(y, y_pred, classes):\n",
    "\n",
    "  \"\"\"Function that calculate the precision and balanced accuracy\n",
    "  of a given prediction and true values. It also plots a relative\n",
    "  confusion matrix to evaluate the classification.\n",
    "\n",
    "  Args:\n",
    "      y (numpy array): true target values\n",
    "      y_pred (numpy array): predicted target values\n",
    "      classes (list): list of possible classes to predict\n",
    "  \"\"\"\n",
    "  \n",
    "  print(f'Precision:{precision_score(y, y_pred)}')\n",
    "  print(f'Balanced accuracy:{balanced_accuracy_score(y, y_pred)}\\n')\n",
    "\n",
    "  cm = confusion_matrix(y, y_pred, normalize='true').round(2)\n",
    "  df = pd.DataFrame(data=cm,columns=classes, index=classes)\n",
    "\n",
    "  plt.figure(figsize=(8,8))\n",
    "  sns.heatmap(\n",
    "      df, \n",
    "      cmap='Blues', \n",
    "      annot=True,\n",
    "  ).set(xlabel='Predicted', ylabel='Expected')\n",
    "  plt.show()"
   ]
  },
  {
   "cell_type": "markdown",
   "metadata": {},
   "source": [
    "### Creating a baseline result using Decision Tree"
   ]
  },
  {
   "cell_type": "code",
   "execution_count": 73,
   "metadata": {},
   "outputs": [],
   "source": [
    "dt_classifier = DecisionTreeClassifier(criterion = 'entropy', random_state = 42)\n",
    "dt_classifier.fit(X_train, y_train)\n",
    "\n",
    "baseline_train_pred = dt_classifier.predict(X_train)\n",
    "baseline_val_pred = dt_classifier.predict(X_val)"
   ]
  },
  {
   "cell_type": "code",
   "execution_count": 76,
   "metadata": {},
   "outputs": [
    {
     "name": "stdout",
     "output_type": "stream",
     "text": [
      "Precision:0.8381053375751149\n",
      "Balanced accuracy:0.6628561201672327\n",
      "\n"
     ]
    },
    {
     "data": {
      "image/png": "[encoded data removed]",
      "text/plain": [
       "<Figure size 576x576 with 2 Axes>"
      ]
     },
     "metadata": {
      "needs_background": "light"
     },
     "output_type": "display_data"
    }
   ],
   "source": [
    "plot_balanced_accuracy_heatmap(y_val, baseline_val_pred, le.classes_)"
   ]
  },
  {
   "cell_type": "markdown",
   "metadata": {},
   "source": [
    "### Using Random Forest"
   ]
  },
  {
   "cell_type": "code",
   "execution_count": 34,
   "metadata": {},
   "outputs": [],
   "source": [
    "pred_dicts = []\n",
    "depths = np.arange(1, 50)\n",
    "\n",
    "for depth in depths:\n",
    "\n",
    "    rf_classificer = RandomForestClassifier(\n",
    "        max_depth=depth, \n",
    "        criterion='entropy', \n",
    "        random_state=42\n",
    "    )\n",
    "    \n",
    "    rf_classificer.fit(X_train, y_train)\n",
    "\n",
    "    train_pred = rf_classificer.predict(X_train)\n",
    "    val_pred = rf_classificer.predict(X_val)\n",
    "\n",
    "    prediction = {\n",
    "        'depth': depth,\n",
    "        'train_precision': precision_score(y_train, train_pred),\n",
    "        'val_precision': precision_score(y_val, val_pred)\n",
    "    }\n",
    "\n",
    "    pred_dicts.append(prediction)\n",
    "\n",
    "rf_df = pd.DataFrame(pred_dicts)"
   ]
  },
  {
   "cell_type": "code",
   "execution_count": 35,
   "metadata": {},
   "outputs": [
    {
     "data": {
      "text/plain": [
       "<AxesSubplot:xlabel='depth'>"
      ]
     },
     "execution_count": 35,
     "metadata": {},
     "output_type": "execute_result"
    },
    {
     "data": {
      "image/png": "[encoded data removed]",
      "text/plain": [
       "<Figure size 432x288 with 1 Axes>"
      ]
     },
     "metadata": {
      "needs_background": "light"
     },
     "output_type": "display_data"
    }
   ],
   "source": [
    "rf_df.set_index('depth').plot()"
   ]
  },
  {
   "cell_type": "code",
   "execution_count": 77,
   "metadata": {},
   "outputs": [
    {
     "data": {
      "text/plain": [
       "32"
      ]
     },
     "execution_count": 77,
     "metadata": {},
     "output_type": "execute_result"
    }
   ],
   "source": [
    "best_depth = rf_df[\n",
    "    rf_df.val_bal_accuracy == rf_df.val_bal_accuracy.max()\n",
    "].depth.values[0]\n",
    "\n",
    "best_depth"
   ]
  },
  {
   "cell_type": "code",
   "execution_count": 78,
   "metadata": {},
   "outputs": [],
   "source": [
    "best_rf_classificer = RandomForestClassifier(\n",
    "    max_depth=best_depth, \n",
    "    criterion='entropy', \n",
    "    random_state=42\n",
    ")\n",
    "\n",
    "best_rf_classificer.fit(X_train, y_train)\n",
    "\n",
    "best_rf_val_pred = best_rf_classificer.predict(X_val)"
   ]
  },
  {
   "cell_type": "code",
   "execution_count": 79,
   "metadata": {},
   "outputs": [
    {
     "name": "stdout",
     "output_type": "stream",
     "text": [
      "Precision:0.8463223787167449\n",
      "Balanced accuracy:0.7025881807206703\n",
      "\n"
     ]
    },
    {
     "data": {
      "image/png": "[encoded data removed]",
      "text/plain": [
       "<Figure size 576x576 with 2 Axes>"
      ]
     },
     "metadata": {
      "needs_background": "light"
     },
     "output_type": "display_data"
    }
   ],
   "source": [
    "plot_balanced_accuracy_heatmap(y_val, best_rf_val_pred, le.classes_)"
   ]
  },
  {
   "cell_type": "markdown",
   "metadata": {},
   "source": [
    "### Using SVC"
   ]
  },
  {
   "cell_type": "code",
   "execution_count": 39,
   "metadata": {},
   "outputs": [],
   "source": [
    "scaler = StandardScaler()\n",
    "scaler.fit(X_train)\n",
    "\n",
    "X_train_scaled = scaler.transform(X_train)\n",
    "X_val_scaled = scaler.transform(X_val)"
   ]
  },
  {
   "cell_type": "code",
   "execution_count": 40,
   "metadata": {},
   "outputs": [
    {
     "name": "stdout",
     "output_type": "stream",
     "text": [
      "param_grid: {'C': array([1.e-02, 1.e-01, 1.e+00, 1.e+01, 1.e+02]), 'kernel': ['linear', 'rbf', 'sigmoid']}\n"
     ]
    }
   ],
   "source": [
    "C_range = np.logspace(-2, 2, 5)\n",
    "kernels = ['linear', 'rbf', 'sigmoid']\n",
    "param_grid = dict(C=C_range, kernel=kernels)\n",
    "print('param_grid:', param_grid)"
   ]
  },
  {
   "cell_type": "code",
   "execution_count": 41,
   "metadata": {},
   "outputs": [
    {
     "name": "stdout",
     "output_type": "stream",
     "text": [
      "Fitting 5 folds for each of 15 candidates, totalling 75 fits\n",
      "[CV 1/5] END .............C=0.01, kernel=linear;, score=0.648 total time=   4.9s\n",
      "[CV 2/5] END .............C=0.01, kernel=linear;, score=0.654 total time=   4.6s\n",
      "[CV 3/5] END .............C=0.01, kernel=linear;, score=0.650 total time=   4.2s\n",
      "[CV 4/5] END .............C=0.01, kernel=linear;, score=0.651 total time=   4.1s\n",
      "[CV 5/5] END .............C=0.01, kernel=linear;, score=0.639 total time=   4.2s\n",
      "[CV 1/5] END ................C=0.01, kernel=rbf;, score=0.500 total time=   7.0s\n",
      "[CV 2/5] END ................C=0.01, kernel=rbf;, score=0.500 total time=   7.0s\n",
      "[CV 3/5] END ................C=0.01, kernel=rbf;, score=0.500 total time=   6.9s\n",
      "[CV 4/5] END ................C=0.01, kernel=rbf;, score=0.500 total time=   6.8s\n",
      "[CV 5/5] END ................C=0.01, kernel=rbf;, score=0.500 total time=   6.9s\n",
      "[CV 1/5] END ............C=0.01, kernel=sigmoid;, score=0.505 total time=   6.8s\n",
      "[CV 2/5] END ............C=0.01, kernel=sigmoid;, score=0.508 total time=   6.8s\n",
      "[CV 3/5] END ............C=0.01, kernel=sigmoid;, score=0.506 total time=   6.9s\n",
      "[CV 4/5] END ............C=0.01, kernel=sigmoid;, score=0.503 total time=   7.0s\n",
      "[CV 5/5] END ............C=0.01, kernel=sigmoid;, score=0.505 total time=   8.2s\n",
      "[CV 1/5] END ..............C=0.1, kernel=linear;, score=0.661 total time=   4.6s\n",
      "[CV 2/5] END ..............C=0.1, kernel=linear;, score=0.667 total time=   4.6s\n",
      "[CV 3/5] END ..............C=0.1, kernel=linear;, score=0.656 total time=   5.1s\n",
      "[CV 4/5] END ..............C=0.1, kernel=linear;, score=0.664 total time=   6.4s\n",
      "[CV 5/5] END ..............C=0.1, kernel=linear;, score=0.651 total time=   5.8s\n",
      "[CV 1/5] END .................C=0.1, kernel=rbf;, score=0.564 total time=   7.3s\n",
      "[CV 2/5] END .................C=0.1, kernel=rbf;, score=0.567 total time=   7.4s\n",
      "[CV 3/5] END .................C=0.1, kernel=rbf;, score=0.563 total time=   7.0s\n",
      "[CV 4/5] END .................C=0.1, kernel=rbf;, score=0.565 total time=   9.0s\n",
      "[CV 5/5] END .................C=0.1, kernel=rbf;, score=0.553 total time=   7.6s\n",
      "[CV 1/5] END .............C=0.1, kernel=sigmoid;, score=0.593 total time=   6.3s\n",
      "[CV 2/5] END .............C=0.1, kernel=sigmoid;, score=0.596 total time=   6.7s\n",
      "[CV 3/5] END .............C=0.1, kernel=sigmoid;, score=0.573 total time=   7.3s\n",
      "[CV 4/5] END .............C=0.1, kernel=sigmoid;, score=0.603 total time=   6.5s\n",
      "[CV 5/5] END .............C=0.1, kernel=sigmoid;, score=0.583 total time=   6.4s\n",
      "[CV 1/5] END ..............C=1.0, kernel=linear;, score=0.663 total time=   7.0s\n",
      "[CV 2/5] END ..............C=1.0, kernel=linear;, score=0.675 total time=   6.9s\n",
      "[CV 3/5] END ..............C=1.0, kernel=linear;, score=0.660 total time=   7.2s\n",
      "[CV 4/5] END ..............C=1.0, kernel=linear;, score=0.667 total time=   7.0s\n",
      "[CV 5/5] END ..............C=1.0, kernel=linear;, score=0.652 total time=   6.8s\n",
      "[CV 1/5] END .................C=1.0, kernel=rbf;, score=0.662 total time=   6.6s\n",
      "[CV 2/5] END .................C=1.0, kernel=rbf;, score=0.675 total time=   6.8s\n",
      "[CV 3/5] END .................C=1.0, kernel=rbf;, score=0.681 total time=   6.7s\n",
      "[CV 4/5] END .................C=1.0, kernel=rbf;, score=0.688 total time=   6.7s\n",
      "[CV 5/5] END .................C=1.0, kernel=rbf;, score=0.676 total time=   6.7s\n",
      "[CV 1/5] END .............C=1.0, kernel=sigmoid;, score=0.581 total time=   4.5s\n",
      "[CV 2/5] END .............C=1.0, kernel=sigmoid;, score=0.594 total time=   3.5s\n",
      "[CV 3/5] END .............C=1.0, kernel=sigmoid;, score=0.602 total time=   3.8s\n",
      "[CV 4/5] END .............C=1.0, kernel=sigmoid;, score=0.600 total time=   3.8s\n",
      "[CV 5/5] END .............C=1.0, kernel=sigmoid;, score=0.576 total time=   3.5s\n",
      "[CV 1/5] END .............C=10.0, kernel=linear;, score=0.663 total time=  18.4s\n",
      "[CV 2/5] END .............C=10.0, kernel=linear;, score=0.676 total time=  22.0s\n",
      "[CV 3/5] END .............C=10.0, kernel=linear;, score=0.660 total time=  17.6s\n",
      "[CV 4/5] END .............C=10.0, kernel=linear;, score=0.667 total time=  18.8s\n",
      "[CV 5/5] END .............C=10.0, kernel=linear;, score=0.650 total time=  19.3s\n",
      "[CV 1/5] END ................C=10.0, kernel=rbf;, score=0.684 total time=   7.8s\n",
      "[CV 2/5] END ................C=10.0, kernel=rbf;, score=0.702 total time=   8.9s\n",
      "[CV 3/5] END ................C=10.0, kernel=rbf;, score=0.682 total time=   8.0s\n",
      "[CV 4/5] END ................C=10.0, kernel=rbf;, score=0.697 total time=   8.3s\n",
      "[CV 5/5] END ................C=10.0, kernel=rbf;, score=0.687 total time=   7.5s\n",
      "[CV 1/5] END ............C=10.0, kernel=sigmoid;, score=0.583 total time=   4.7s\n",
      "[CV 2/5] END ............C=10.0, kernel=sigmoid;, score=0.570 total time=   4.8s\n",
      "[CV 3/5] END ............C=10.0, kernel=sigmoid;, score=0.601 total time=   3.7s\n",
      "[CV 4/5] END ............C=10.0, kernel=sigmoid;, score=0.567 total time=   4.6s\n",
      "[CV 5/5] END ............C=10.0, kernel=sigmoid;, score=0.570 total time=   6.0s\n",
      "[CV 1/5] END ............C=100.0, kernel=linear;, score=0.663 total time= 1.6min\n",
      "[CV 2/5] END ............C=100.0, kernel=linear;, score=0.677 total time= 1.7min\n",
      "[CV 3/5] END ............C=100.0, kernel=linear;, score=0.661 total time= 1.7min\n",
      "[CV 4/5] END ............C=100.0, kernel=linear;, score=0.667 total time= 1.7min\n",
      "[CV 5/5] END ............C=100.0, kernel=linear;, score=0.652 total time= 1.8min\n",
      "[CV 1/5] END ...............C=100.0, kernel=rbf;, score=0.664 total time=  14.7s\n",
      "[CV 2/5] END ...............C=100.0, kernel=rbf;, score=0.697 total time=  15.5s\n",
      "[CV 3/5] END ...............C=100.0, kernel=rbf;, score=0.681 total time=  14.7s\n",
      "[CV 4/5] END ...............C=100.0, kernel=rbf;, score=0.695 total time=  13.6s\n",
      "[CV 5/5] END ...............C=100.0, kernel=rbf;, score=0.679 total time=  14.7s\n",
      "[CV 1/5] END ...........C=100.0, kernel=sigmoid;, score=0.605 total time=   4.3s\n",
      "[CV 2/5] END ...........C=100.0, kernel=sigmoid;, score=0.590 total time=   4.3s\n",
      "[CV 3/5] END ...........C=100.0, kernel=sigmoid;, score=0.600 total time=   3.4s\n",
      "[CV 4/5] END ...........C=100.0, kernel=sigmoid;, score=0.600 total time=   4.0s\n",
      "[CV 5/5] END ...........C=100.0, kernel=sigmoid;, score=0.570 total time=   4.5s\n"
     ]
    },
    {
     "data": {
      "text/html": [
       "<style>#sk-container-id-1 {color: black;background-color: white;}#sk-container-id-1 pre{padding: 0;}#sk-container-id-1 div.sk-toggleable {background-color: white;}#sk-container-id-1 label.sk-toggleable__label {cursor: pointer;display: block;width: 100%;margin-bottom: 0;padding: 0.3em;box-sizing: border-box;text-align: center;}#sk-container-id-1 label.sk-toggleable__label-arrow:before {content: \"▸\";float: left;margin-right: 0.25em;color: #696969;}#sk-container-id-1 label.sk-toggleable__label-arrow:hover:before {color: black;}#sk-container-id-1 div.sk-estimator:hover label.sk-toggleable__label-arrow:before {color: black;}#sk-container-id-1 div.sk-toggleable__content {max-height: 0;max-width: 0;overflow: hidden;text-align: left;background-color: #f0f8ff;}#sk-container-id-1 div.sk-toggleable__content pre {margin: 0.2em;color: black;border-radius: 0.25em;background-color: #f0f8ff;}#sk-container-id-1 input.sk-toggleable__control:checked~div.sk-toggleable__content {max-height: 200px;max-width: 100%;overflow: auto;}#sk-container-id-1 input.sk-toggleable__control:checked~label.sk-toggleable__label-arrow:before {content: \"▾\";}#sk-container-id-1 div.sk-estimator input.sk-toggleable__control:checked~label.sk-toggleable__label {background-color: #d4ebff;}#sk-container-id-1 div.sk-label input.sk-toggleable__control:checked~label.sk-toggleable__label {background-color: #d4ebff;}#sk-container-id-1 input.sk-hidden--visually {border: 0;clip: rect(1px 1px 1px 1px);clip: rect(1px, 1px, 1px, 1px);height: 1px;margin: -1px;overflow: hidden;padding: 0;position: absolute;width: 1px;}#sk-container-id-1 div.sk-estimator {font-family: monospace;background-color: #f0f8ff;border: 1px dotted black;border-radius: 0.25em;box-sizing: border-box;margin-bottom: 0.5em;}#sk-container-id-1 div.sk-estimator:hover {background-color: #d4ebff;}#sk-container-id-1 div.sk-parallel-item::after {content: \"\";width: 100%;border-bottom: 1px solid gray;flex-grow: 1;}#sk-container-id-1 div.sk-label:hover label.sk-toggleable__label {background-color: #d4ebff;}#sk-container-id-1 div.sk-serial::before {content: \"\";position: absolute;border-left: 1px solid gray;box-sizing: border-box;top: 0;bottom: 0;left: 50%;z-index: 0;}#sk-container-id-1 div.sk-serial {display: flex;flex-direction: column;align-items: center;background-color: white;padding-right: 0.2em;padding-left: 0.2em;position: relative;}#sk-container-id-1 div.sk-item {position: relative;z-index: 1;}#sk-container-id-1 div.sk-parallel {display: flex;align-items: stretch;justify-content: center;background-color: white;position: relative;}#sk-container-id-1 div.sk-item::before, #sk-container-id-1 div.sk-parallel-item::before {content: \"\";position: absolute;border-left: 1px solid gray;box-sizing: border-box;top: 0;bottom: 0;left: 50%;z-index: -1;}#sk-container-id-1 div.sk-parallel-item {display: flex;flex-direction: column;z-index: 1;position: relative;background-color: white;}#sk-container-id-1 div.sk-parallel-item:first-child::after {align-self: flex-end;width: 50%;}#sk-container-id-1 div.sk-parallel-item:last-child::after {align-self: flex-start;width: 50%;}#sk-container-id-1 div.sk-parallel-item:only-child::after {width: 0;}#sk-container-id-1 div.sk-dashed-wrapped {border: 1px dashed gray;margin: 0 0.4em 0.5em 0.4em;box-sizing: border-box;padding-bottom: 0.4em;background-color: white;}#sk-container-id-1 div.sk-label label {font-family: monospace;font-weight: bold;display: inline-block;line-height: 1.2em;}#sk-container-id-1 div.sk-label-container {text-align: center;}#sk-container-id-1 div.sk-container {/* jupyter's `normalize.less` sets `[hidden] { display: none; }` but bootstrap.min.css set `[hidden] { display: none !important; }` so we also need the `!important` here to be able to override the default hidden behavior on the sphinx rendered scikit-learn.org. See: https://github.com/scikit-learn/scikit-learn/issues/21755 */display: inline-block !important;position: relative;}#sk-container-id-1 div.sk-text-repr-fallback {display: none;}</style><div id=\"sk-container-id-1\" class=\"sk-top-container\"><div class=\"sk-text-repr-fallback\"><pre>GridSearchCV(cv=5, estimator=SVC(random_state=42),\n",
       "             param_grid={&#x27;C&#x27;: array([1.e-02, 1.e-01, 1.e+00, 1.e+01, 1.e+02]),\n",
       "                         &#x27;kernel&#x27;: [&#x27;linear&#x27;, &#x27;rbf&#x27;, &#x27;sigmoid&#x27;]},\n",
       "             scoring=make_scorer(balanced_accuracy_score), verbose=3)</pre><b>In a Jupyter environment, please rerun this cell to show the HTML representation or trust the notebook. <br />On GitHub, the HTML representation is unable to render, please try loading this page with nbviewer.org.</b></div><div class=\"sk-container\" hidden><div class=\"sk-item sk-dashed-wrapped\"><div class=\"sk-label-container\"><div class=\"sk-label sk-toggleable\"><input class=\"sk-toggleable__control sk-hidden--visually\" id=\"sk-estimator-id-1\" type=\"checkbox\" ><label for=\"sk-estimator-id-1\" class=\"sk-toggleable__label sk-toggleable__label-arrow\">GridSearchCV</label><div class=\"sk-toggleable__content\"><pre>GridSearchCV(cv=5, estimator=SVC(random_state=42),\n",
       "             param_grid={&#x27;C&#x27;: array([1.e-02, 1.e-01, 1.e+00, 1.e+01, 1.e+02]),\n",
       "                         &#x27;kernel&#x27;: [&#x27;linear&#x27;, &#x27;rbf&#x27;, &#x27;sigmoid&#x27;]},\n",
       "             scoring=make_scorer(balanced_accuracy_score), verbose=3)</pre></div></div></div><div class=\"sk-parallel\"><div class=\"sk-parallel-item\"><div class=\"sk-item\"><div class=\"sk-label-container\"><div class=\"sk-label sk-toggleable\"><input class=\"sk-toggleable__control sk-hidden--visually\" id=\"sk-estimator-id-2\" type=\"checkbox\" ><label for=\"sk-estimator-id-2\" class=\"sk-toggleable__label sk-toggleable__label-arrow\">estimator: SVC</label><div class=\"sk-toggleable__content\"><pre>SVC(random_state=42)</pre></div></div></div><div class=\"sk-serial\"><div class=\"sk-item\"><div class=\"sk-estimator sk-toggleable\"><input class=\"sk-toggleable__control sk-hidden--visually\" id=\"sk-estimator-id-3\" type=\"checkbox\" ><label for=\"sk-estimator-id-3\" class=\"sk-toggleable__label sk-toggleable__label-arrow\">SVC</label><div class=\"sk-toggleable__content\"><pre>SVC(random_state=42)</pre></div></div></div></div></div></div></div></div></div></div>"
      ],
      "text/plain": [
       "GridSearchCV(cv=5, estimator=SVC(random_state=42),\n",
       "             param_grid={'C': array([1.e-02, 1.e-01, 1.e+00, 1.e+01, 1.e+02]),\n",
       "                         'kernel': ['linear', 'rbf', 'sigmoid']},\n",
       "             scoring=make_scorer(balanced_accuracy_score), verbose=3)"
      ]
     },
     "execution_count": 41,
     "metadata": {},
     "output_type": "execute_result"
    }
   ],
   "source": [
    "svc_model = SVC(random_state = 42)\n",
    "bas = make_scorer(balanced_accuracy_score, greater_is_better=True)\n",
    "grid = GridSearchCV(svc_model, param_grid, cv=5, scoring=bas,verbose=3)\n",
    "grid.fit(X_train_scaled, y_train)"
   ]
  },
  {
   "cell_type": "code",
   "execution_count": 80,
   "metadata": {},
   "outputs": [],
   "source": [
    "best_svc = grid.best_estimator_\n",
    "y_pred_train = best_svc.predict(X_train_scaled)\n",
    "y_pred_val = best_svc.predict(X_val_scaled)"
   ]
  },
  {
   "cell_type": "code",
   "execution_count": 82,
   "metadata": {},
   "outputs": [
    {
     "name": "stdout",
     "output_type": "stream",
     "text": [
      "Precision:0.845061533606816\n",
      "Balanced accuracy:0.6980992304444272\n",
      "\n"
     ]
    },
    {
     "data": {
      "image/png": "[encoded data removed]",
      "text/plain": [
       "<Figure size 576x576 with 2 Axes>"
      ]
     },
     "metadata": {
      "needs_background": "light"
     },
     "output_type": "display_data"
    }
   ],
   "source": [
    "plot_balanced_accuracy_heatmap(y_val, y_pred_val,  le.classes_)"
   ]
  },
  {
   "cell_type": "markdown",
   "metadata": {},
   "source": [
    "## Applying the best model on the Test set"
   ]
  },
  {
   "cell_type": "code",
   "execution_count": 83,
   "metadata": {},
   "outputs": [],
   "source": [
    "best_rf_test_pred = best_rf_classificer.predict(X_test)"
   ]
  },
  {
   "cell_type": "code",
   "execution_count": 84,
   "metadata": {},
   "outputs": [
    {
     "name": "stdout",
     "output_type": "stream",
     "text": [
      "Precision:0.8418079096045198\n",
      "Balanced accuracy:0.6929211651302394\n",
      "\n"
     ]
    },
    {
     "data": {
      "image/png": "[encoded data removed]",
      "text/plain": [
       "<Figure size 576x576 with 2 Axes>"
      ]
     },
     "metadata": {
      "needs_background": "light"
     },
     "output_type": "display_data"
    }
   ],
   "source": [
    "plot_balanced_accuracy_heatmap(y_test, best_rf_test_pred,  le.classes_)"
   ]
  },
  {
   "cell_type": "code",
   "execution_count": null,
   "metadata": {},
   "outputs": [],
   "source": []
  }
 ],
 "metadata": {
  "interpreter": {
   "hash": "c4f92193806e2908606a5f23edd55a5282f2f433b73b1c504507f9256ed9f0b4"
  },
  "kernelspec": {
   "display_name": "Python 3.8.8 ('base')",
   "language": "python",
   "name": "python3"
  },
  "language_info": {
   "codemirror_mode": {
    "name": "ipython",
    "version": 3
   },
   "file_extension": ".py",
   "mimetype": "text/x-python",
   "name": "python",
   "nbconvert_exporter": "python",
   "pygments_lexer": "ipython3",
   "version": "3.8.8"
  },
  "orig_nbformat": 4
 },
 "nbformat": 4,
 "nbformat_minor": 2
}
